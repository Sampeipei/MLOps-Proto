{
 "cells": [
  {
   "cell_type": "markdown",
   "id": "02a35228-5771-4c80-bbc9-955763d31f15",
   "metadata": {},
   "source": [
    "# Enviornment"
   ]
  },
  {
   "cell_type": "code",
   "execution_count": 7,
   "id": "3e46d201-20cd-45c6-9203-450b28694fc8",
   "metadata": {},
   "outputs": [],
   "source": [
    "!ls ../../data"
   ]
  },
  {
   "cell_type": "markdown",
   "id": "9cdfefed-7451-4f2e-a6c4-f9b72a57213f",
   "metadata": {},
   "source": [
    "# Import"
   ]
  },
  {
   "cell_type": "code",
   "execution_count": 100,
   "id": "c77fdcb9-207d-4f48-8b5f-21f4087d7458",
   "metadata": {},
   "outputs": [],
   "source": [
    "import os\n",
    "import math\n",
    "import glob\n",
    "\n",
    "from box import Box\n",
    "import numpy as np\n",
    "import pandas as pd\n",
    "import cv2\n",
    "import matplotlib.pyplot as plt\n",
    "from sklearn.datasets import fetch_openml\n",
    "from sklearn.model_selection import StratifiedKFold"
   ]
  },
  {
   "cell_type": "markdown",
   "id": "56b15f39-26d0-410e-b26d-de869f033a3c",
   "metadata": {},
   "source": [
    "# Constant"
   ]
  },
  {
   "cell_type": "code",
   "execution_count": 69,
   "id": "9f6c99dd-63b2-4f84-ac31-624cd31aaf0c",
   "metadata": {},
   "outputs": [],
   "source": [
    "cfg = {\n",
    "    'SAVE_DIR': '../../data',\n",
    "    'SEED': 1234,\n",
    "    'FOLDS': 7,\n",
    "}\n",
    "cfg = Box(cfg)"
   ]
  },
  {
   "cell_type": "code",
   "execution_count": 44,
   "id": "de0195e0-8886-41e3-baae-5ee90d83ed2b",
   "metadata": {},
   "outputs": [],
   "source": [
    "np.random.seed(cfg.SEED)"
   ]
  },
  {
   "cell_type": "markdown",
   "id": "7094adc6-c8bb-4fc6-bb4f-f376ecc41e62",
   "metadata": {},
   "source": [
    "# Download data"
   ]
  },
  {
   "cell_type": "code",
   "execution_count": 43,
   "id": "cb7c28ff-b333-4f9b-9aec-abdc1f955598",
   "metadata": {},
   "outputs": [
    {
     "name": "stderr",
     "output_type": "stream",
     "text": [
      "/usr/local/lib/python3.9/site-packages/sklearn/datasets/_openml.py:932: FutureWarning: The default value of `parser` will change from `'liac-arff'` to `'auto'` in 1.4. You can set `parser='auto'` to silence this warning. Therefore, an `ImportError` will be raised from 1.4 if the dataset is dense and pandas is not installed. Note that the pandas parser may return different data types. See the Notes Section in fetch_openml's API doc for details.\n",
      "  warn(\n"
     ]
    }
   ],
   "source": [
    "X_org, y_org = fetch_openml('mnist_784', return_X_y=True)"
   ]
  },
  {
   "cell_type": "code",
   "execution_count": 45,
   "id": "226ce837-f5de-49e9-a9df-eca99e9a379a",
   "metadata": {},
   "outputs": [
    {
     "name": "stdout",
     "output_type": "stream",
     "text": [
      "X_org.shape: (70000, 784)\n",
      "X.shape: (70000, 28, 28)\n",
      "y_org.shape: (70000,)\n",
      "y.shape: (70000,)\n"
     ]
    }
   ],
   "source": [
    "# Reshape table value into 2d array\n",
    "X = X_org.values.reshape((-1, 28, 28))\n",
    "y = y_org.values\n",
    "print(f\"X_org.shape: {X_org.shape}\")\n",
    "print(f\"X.shape: {X.shape}\")\n",
    "print(f\"y_org.shape: {y_org.shape}\")\n",
    "print(f\"y.shape: {y.shape}\")"
   ]
  },
  {
   "cell_type": "code",
   "execution_count": 49,
   "id": "73057476-0f8b-4dbb-b88d-15a5ac11c16a",
   "metadata": {},
   "outputs": [
    {
     "data": {
      "image/png": "[encoded data removed]",
      "text/plain": [
       "<Figure size 1200x500 with 10 Axes>"
      ]
     },
     "metadata": {},
     "output_type": "display_data"
    }
   ],
   "source": [
    "# Display few images\n",
    "num_sample = 10\n",
    "sample_idxs = np.random.choice(range(len(X)), size=num_sample, replace=False)\n",
    "n_cols = 5\n",
    "n_rows = math.ceil(num_sample / n_cols)\n",
    "fig, axes = plt.subplots(n_rows, n_cols, figsize=(12, 5))\n",
    "axes = axes.ravel()\n",
    "for i, sample_idx in enumerate(sample_idxs):\n",
    "    axes[i].imshow(X[sample_idx], cmap='gray')\n",
    "    axes[i].set_title(f'label: {y[sample_idx]}')"
   ]
  },
  {
   "cell_type": "markdown",
   "id": "c625af58-b1a0-4333-aaba-1038821577d6",
   "metadata": {},
   "source": [
    "# Save data\n",
    "\n",
    "**Structure is as follows**\n",
    "- data\n",
    "    - mnist\n",
    "        - [label]\n",
    "            - [number in 5 digits starting from 00000].jpg\n",
    "    - folds\n",
    "        - [number in 3 digits starting from 000]\n",
    "            - fold.csv"
   ]
  },
  {
   "cell_type": "markdown",
   "id": "e3ffb67d-b38f-42bd-ae82-421a04ccba4a",
   "metadata": {},
   "source": [
    "## Images"
   ]
  },
  {
   "cell_type": "code",
   "execution_count": 63,
   "id": "754fd660-c0d9-4a0c-b0a8-2e337fb83bd2",
   "metadata": {},
   "outputs": [],
   "source": [
    "# Directory for saving training data\n",
    "mnist_dir = os.path.join(cfg.SAVE_DIR, 'mnist')\n",
    "os.makedirs(mnist_dir, exist_ok=True)"
   ]
  },
  {
   "cell_type": "code",
   "execution_count": 54,
   "id": "296afc9b-cd76-49cb-9254-652101d70b21",
   "metadata": {},
   "outputs": [
    {
     "data": {
      "text/plain": [
       "array(['0', '1', '2', '3', '4', '5', '6', '7', '8', '9'], dtype=object)"
      ]
     },
     "execution_count": 54,
     "metadata": {},
     "output_type": "execute_result"
    }
   ],
   "source": [
    "# Directory for images\n",
    "labels = np.unique(y)\n",
    "labels"
   ]
  },
  {
   "cell_type": "code",
   "execution_count": 66,
   "id": "cdba05c9-807c-4308-8cd7-8d113a4040bb",
   "metadata": {},
   "outputs": [],
   "source": [
    "labels = np.unique(y)\n",
    "for label in labels:\n",
    "    # Directory for images\n",
    "    img_dir = os.path.join(mnist_dir, label)\n",
    "    os.makedirs(img_dir, exist_ok=True)\n",
    "    # Search index with certain label\n",
    "    img_idxs = np.where(y == label)[0]\n",
    "    imgs = X[img_idxs]\n",
    "    for i, img in enumerate(imgs):\n",
    "        img_path = os.path.join(img_dir, str(i).zfill(5)) + '.jpg'\n",
    "        cv2.imwrite(img_path, img)"
   ]
  },
  {
   "cell_type": "markdown",
   "id": "3675cf64-ea59-44bd-a27c-7eca77a6ccf0",
   "metadata": {},
   "source": [
    "## Folds"
   ]
  },
  {
   "cell_type": "code",
   "execution_count": 105,
   "id": "6b8a0cf6-62df-43e7-a8dc-dadc681216cf",
   "metadata": {},
   "outputs": [],
   "source": [
    "# Directory for saving fold definition\n",
    "fold_dir = os.path.join(cfg.SAVE_DIR, 'fold', '000')\n",
    "os.makedirs(fold_dir, exist_ok=True)"
   ]
  },
  {
   "cell_type": "code",
   "execution_count": 91,
   "id": "c940fe69-94e0-4f20-a057-08a71fe66f21",
   "metadata": {},
   "outputs": [],
   "source": [
    "# Read file paths\n",
    "data_paths = np.array(glob.glob(os.path.join(mnist_dir, '*', '*.jpg')))\n",
    "labels = [int(path.split('/')[-2]) for path in data_paths]"
   ]
  },
  {
   "cell_type": "code",
   "execution_count": 99,
   "id": "4d3a26e9-d8ee-4935-92d0-ad396d7b5404",
   "metadata": {},
   "outputs": [],
   "source": [
    "# Split data into folds\n",
    "folds = []\n",
    "paths = []\n",
    "k_fold = StratifiedKFold(n_splits=cfg.FOLDS, shuffle=True, random_state=cfg.SEED)\n",
    "for fold_i, (_, valid_idx) in enumerate(k_fold.split(X=data_paths, y=labels)):\n",
    "    folds += [fold_i] * len(valid_idx)\n",
    "    paths += list(data_paths[valid_idx])"
   ]
  },
  {
   "cell_type": "code",
   "execution_count": 104,
   "id": "f75fe93c-f47e-449d-adf1-7d71d8017613",
   "metadata": {},
   "outputs": [
    {
     "name": "stdout",
     "output_type": "stream",
     "text": [
      "fold_def.shape: (70000, 2)\n"
     ]
    },
    {
     "data": {
      "text/html": [
       "<div>\n",
       "<style scoped>\n",
       "    .dataframe tbody tr th:only-of-type {\n",
       "        vertical-align: middle;\n",
       "    }\n",
       "\n",
       "    .dataframe tbody tr th {\n",
       "        vertical-align: top;\n",
       "    }\n",
       "\n",
       "    .dataframe thead th {\n",
       "        text-align: right;\n",
       "    }\n",
       "</style>\n",
       "<table border=\"1\" class=\"dataframe\">\n",
       "  <thead>\n",
       "    <tr style=\"text-align: right;\">\n",
       "      <th></th>\n",
       "      <th>fold_idx</th>\n",
       "      <th>path</th>\n",
       "    </tr>\n",
       "  </thead>\n",
       "  <tbody>\n",
       "    <tr>\n",
       "      <th>0</th>\n",
       "      <td>0</td>\n",
       "      <td>../../data/mnist/5/06248.jpg</td>\n",
       "    </tr>\n",
       "    <tr>\n",
       "      <th>1</th>\n",
       "      <td>0</td>\n",
       "      <td>../../data/mnist/5/00437.jpg</td>\n",
       "    </tr>\n",
       "    <tr>\n",
       "      <th>2</th>\n",
       "      <td>0</td>\n",
       "      <td>../../data/mnist/5/05458.jpg</td>\n",
       "    </tr>\n",
       "    <tr>\n",
       "      <th>3</th>\n",
       "      <td>0</td>\n",
       "      <td>../../data/mnist/5/05145.jpg</td>\n",
       "    </tr>\n",
       "    <tr>\n",
       "      <th>4</th>\n",
       "      <td>0</td>\n",
       "      <td>../../data/mnist/5/03274.jpg</td>\n",
       "    </tr>\n",
       "  </tbody>\n",
       "</table>\n",
       "</div>"
      ],
      "text/plain": [
       "   fold_idx                          path\n",
       "0         0  ../../data/mnist/5/06248.jpg\n",
       "1         0  ../../data/mnist/5/00437.jpg\n",
       "2         0  ../../data/mnist/5/05458.jpg\n",
       "3         0  ../../data/mnist/5/05145.jpg\n",
       "4         0  ../../data/mnist/5/03274.jpg"
      ]
     },
     "execution_count": 104,
     "metadata": {},
     "output_type": "execute_result"
    }
   ],
   "source": [
    "# Convert to pandas DataFrmae\n",
    "fold_def = pd.DataFrame({'fold_idx': folds,'path': paths})\n",
    "print(f'fold_def.shape: {fold_def.shape}')\n",
    "fold_def.head()"
   ]
  },
  {
   "cell_type": "code",
   "execution_count": 106,
   "id": "535019fc-3b62-45a1-af19-f3d137bd0819",
   "metadata": {},
   "outputs": [],
   "source": [
    "# Save fold definition in csv\n",
    "fold_path = os.path.join(fold_dir, 'stratified_fold.csv')\n",
    "fold_def.to_csv(fold_path, index=False)"
   ]
  },
  {
   "cell_type": "code",
   "execution_count": null,
   "id": "c70d043a-e17f-40d1-9c5f-a0315cf343fb",
   "metadata": {},
   "outputs": [],
   "source": []
  }
 ],
 "metadata": {
  "kernelspec": {
   "display_name": "Python 3 (ipykernel)",
   "language": "python",
   "name": "python3"
  },
  "language_info": {
   "codemirror_mode": {
    "name": "ipython",
    "version": 3
   },
   "file_extension": ".py",
   "mimetype": "text/x-python",
   "name": "python",
   "nbconvert_exporter": "python",
   "pygments_lexer": "ipython3",
   "version": "3.9.13"
  }
 },
 "nbformat": 4,
 "nbformat_minor": 5
}
